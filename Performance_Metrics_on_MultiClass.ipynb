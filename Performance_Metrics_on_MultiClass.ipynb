{
 "cells": [
  {
   "cell_type": "markdown",
   "id": "0ed226bd",
   "metadata": {},
   "source": [
    "## Performance Metrics on MultiClass Classification Problems"
   ]
  },
  {
   "cell_type": "code",
   "execution_count": 2,
   "id": "bc21bfc9",
   "metadata": {},
   "outputs": [],
   "source": [
    "from sklearn import metrics"
   ]
  },
  {
   "cell_type": "code",
   "execution_count": 3,
   "id": "2cc6e9f8",
   "metadata": {},
   "outputs": [],
   "source": [
    "C = \"Cat\"\n",
    "D = \"Dog\"\n",
    "F = \"Fox\""
   ]
  },
  {
   "cell_type": "markdown",
   "id": "0c60c32b",
   "metadata": {},
   "source": [
    "#### The Precision for the Cat class is the number of correctly predicited cat out of all predicted cat.\n",
    "#### The Recall for Cat is the number of correctly predicted cat photos out of the number of actual cat."
   ]
  },
  {
   "cell_type": "code",
   "execution_count": 7,
   "id": "ecd7bff0",
   "metadata": {},
   "outputs": [],
   "source": [
    "# True Value\n",
    "y_true = [C,C,C,C, F,F,F,F,F,F,F, D,D,D,D,D,D,D]\n",
    "\n",
    "# Predicted Values\n",
    "y_pred = [C,C,D,F, C,F,D,D,C,F,F, D,C,D,F,F,D,C]"
   ]
  },
  {
   "cell_type": "code",
   "execution_count": 12,
   "id": "d1ed681c",
   "metadata": {},
   "outputs": [
    {
     "name": "stdout",
     "output_type": "stream",
     "text": [
      "[[2 1 1]\n",
      " [2 3 2]\n",
      " [2 2 3]]\n"
     ]
    }
   ],
   "source": [
    "# Print the Confusion Metrics\n",
    "print(metrics.confusion_matrix(y_true, y_pred))"
   ]
  },
  {
   "cell_type": "code",
   "execution_count": 9,
   "id": "7ac07b41",
   "metadata": {},
   "outputs": [
    {
     "name": "stdout",
     "output_type": "stream",
     "text": [
      "              precision    recall  f1-score   support\n",
      "\n",
      "         Cat      0.333     0.500     0.400         4\n",
      "         Dog      0.500     0.429     0.462         7\n",
      "         Fox      0.500     0.429     0.462         7\n",
      "\n",
      "    accuracy                          0.444        18\n",
      "   macro avg      0.444     0.452     0.441        18\n",
      "weighted avg      0.463     0.444     0.448        18\n",
      "\n"
     ]
    }
   ],
   "source": [
    "# Print the Precision and Recall, among ather metrics\n",
    "print(metrics.classification_report(y_true, y_pred, digits=3))"
   ]
  },
  {
   "cell_type": "code",
   "execution_count": null,
   "id": "cd8216b1",
   "metadata": {},
   "outputs": [],
   "source": []
  },
  {
   "cell_type": "code",
   "execution_count": null,
   "id": "02e19d9c",
   "metadata": {},
   "outputs": [],
   "source": []
  }
 ],
 "metadata": {
  "kernelspec": {
   "display_name": "Python 3 (ipykernel)",
   "language": "python",
   "name": "python3"
  },
  "language_info": {
   "codemirror_mode": {
    "name": "ipython",
    "version": 3
   },
   "file_extension": ".py",
   "mimetype": "text/x-python",
   "name": "python",
   "nbconvert_exporter": "python",
   "pygments_lexer": "ipython3",
   "version": "3.10.9"
  }
 },
 "nbformat": 4,
 "nbformat_minor": 5
}
